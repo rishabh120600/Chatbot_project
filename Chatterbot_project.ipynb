{
 "cells": [
  {
   "cell_type": "code",
   "execution_count": 1,
   "id": "d5e3a7af-1f42-4f3a-9cd3-aee2f09e8578",
   "metadata": {},
   "outputs": [],
   "source": [
    "from chatterbot import ChatBot\n",
    "from chatterbot.trainers import ListTrainer"
   ]
  },
  {
   "cell_type": "code",
   "execution_count": 2,
   "id": "7e8178b0-0d77-4be8-911e-bd87ec29e242",
   "metadata": {},
   "outputs": [],
   "source": [
    "# Define purpose and functionality\n",
    "purpose = \"\"\"\n",
    "The purpose of this chatbot is to assist users in answering questions related to various topics. \n",
    "Users can inquire about different subjects, and the chatbot will respond with relevant information. \n",
    "This chatbot aims to help users understand natural language processing fundamentals and gain confidence \n",
    "in deploying chatbots to various platforms.\n",
    "\"\"\""
   ]
  },
  {
   "cell_type": "code",
   "execution_count": 3,
   "id": "764ba89e-8a54-4ec5-8709-609a66a52808",
   "metadata": {},
   "outputs": [
    {
     "name": "stderr",
     "output_type": "stream",
     "text": [
      "[nltk_data] Downloading package averaged_perceptron_tagger to\n",
      "[nltk_data]     /Users/rishabhpancholi/nltk_data...\n",
      "[nltk_data]   Package averaged_perceptron_tagger is already up-to-\n",
      "[nltk_data]       date!\n",
      "[nltk_data] Downloading package punkt to\n",
      "[nltk_data]     /Users/rishabhpancholi/nltk_data...\n",
      "[nltk_data]   Package punkt is already up-to-date!\n",
      "[nltk_data] Downloading package stopwords to\n",
      "[nltk_data]     /Users/rishabhpancholi/nltk_data...\n",
      "[nltk_data]   Package stopwords is already up-to-date!\n"
     ]
    }
   ],
   "source": [
    "# Create a new chatbot instance\n",
    "chatbot = ChatBot(\"TopicBot\")\n",
    "\n",
    "# Define sample conversations for training\n",
    "training_data = [\n",
    "    # Greetings\n",
    "    \"Hi\",\n",
    "    \"Hello! How can I assist you today?\",\n",
    "    \"Hello\",\n",
    "    \"Hi! What can I do for you?\",\n",
    "    \n",
    "    # Farewells\n",
    "    \"Goodbye\",\n",
    "    \"Goodbye! Have a great day!\",\n",
    "    \"Bye\",\n",
    "    \"See you later!\",\n",
    "    \n",
    "    # Python\n",
    "    \"Can you tell me about Python?\",\n",
    "    \"Python is a high-level programming language known for its simplicity and readability. It's commonly used in web development, data analysis, artificial intelligence, and more.\",\n",
    "    \"What can you tell me about Python?\",\n",
    "    \"Python is an interpreted, object-oriented, high-level programming language with dynamic semantics.\",\n",
    "    \"Why should I learn Python?\",\n",
    "    \"Learning Python opens up opportunities in various fields such as web development, data science, machine learning, and automation.\",\n",
    "    \n",
    "    # Java\n",
    "    \"What is Java?\",\n",
    "    \"Java is a widely-used programming language known for its portability and security features. It's commonly used for building enterprise-level applications, mobile apps, and web services.\",\n",
    "    \"Tell me about Java\",\n",
    "    \"Java is a class-based, object-oriented programming language designed to have as few implementation dependencies as possible.\",\n",
    "    \"Why should I learn Java?\",\n",
    "    \"Learning Java can help you develop cross-platform applications, Android mobile apps, and enterprise-level software solutions.\",\n",
    "]"
   ]
  },
  {
   "cell_type": "code",
   "execution_count": null,
   "id": "efcdd6dc-cefd-4d0f-b8c6-b87fa9b1c70d",
   "metadata": {},
   "outputs": [
    {
     "name": "stdout",
     "output_type": "stream",
     "text": [
      "List Trainer: [####################] 100%\n",
      "Chatbot: Hello! I'm TopicBot. How can I assist you today?\n"
     ]
    },
    {
     "name": "stdin",
     "output_type": "stream",
     "text": [
      "You:  Hi\n"
     ]
    },
    {
     "name": "stdout",
     "output_type": "stream",
     "text": [
      "Chatbot: Hello! How can I assist you today?\n"
     ]
    },
    {
     "name": "stdin",
     "output_type": "stream",
     "text": [
      "You:  Can you tell me about Python?\n"
     ]
    },
    {
     "name": "stdout",
     "output_type": "stream",
     "text": [
      "Chatbot: Python is a high-level programming language known for its simplicity and readability.\n"
     ]
    },
    {
     "name": "stdin",
     "output_type": "stream",
     "text": [
      "You:  What can you tell me about Python?\n"
     ]
    },
    {
     "name": "stdout",
     "output_type": "stream",
     "text": [
      "Chatbot: Python is a high-level programming language known for its simplicity and readability.\n"
     ]
    },
    {
     "name": "stdin",
     "output_type": "stream",
     "text": [
      "You:  Why should I learn Python?\n"
     ]
    },
    {
     "name": "stdout",
     "output_type": "stream",
     "text": [
      "Chatbot: Learning Python opens up opportunities in various fields such as web development, data science, machine learning, and automation.\n"
     ]
    },
    {
     "name": "stdin",
     "output_type": "stream",
     "text": [
      "You:  Tell me about Java\n"
     ]
    },
    {
     "name": "stdout",
     "output_type": "stream",
     "text": [
      "Chatbot: Java is a class-based, object-oriented programming language designed to have as few implementation dependencies as possible.\n"
     ]
    }
   ],
   "source": [
    "# Train the chatbot\n",
    "trainer = ListTrainer(chatbot)\n",
    "trainer.train(training_data)\n",
    "\n",
    "# Test the chatbot\n",
    "print(\"Chatbot: Hello! I'm TopicBot. How can I assist you today?\")\n",
    "while True:\n",
    "    user_input = input(\"You: \")\n",
    "    if user_input.lower() in ['exit', 'quit', 'bye', 'goodbye']:\n",
    "        print(\"Chatbot: Goodbye!\")\n",
    "        break\n",
    "    response = chatbot.get_response(user_input)\n",
    "    print(\"Chatbot:\", response)"
   ]
  }
 ],
 "metadata": {
  "kernelspec": {
   "display_name": "Python 3 (ipykernel)",
   "language": "python",
   "name": "python3"
  },
  "language_info": {
   "codemirror_mode": {
    "name": "ipython",
    "version": 3
   },
   "file_extension": ".py",
   "mimetype": "text/x-python",
   "name": "python",
   "nbconvert_exporter": "python",
   "pygments_lexer": "ipython3",
   "version": "3.11.5"
  }
 },
 "nbformat": 4,
 "nbformat_minor": 5
}
